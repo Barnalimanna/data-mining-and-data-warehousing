{
 "cells": [
  {
   "cell_type": "code",
   "execution_count": 1,
   "metadata": {},
   "outputs": [],
   "source": [
    "#Outlier Analysis problem of banking fraudulent transformation in python.\n",
    "import numpy as np\n",
    "import pandas as pd\n",
    "from scipy import stats"
   ]
  },
  {
   "cell_type": "code",
   "execution_count": 2,
   "metadata": {},
   "outputs": [
    {
     "name": "stdout",
     "output_type": "stream",
     "text": [
      "Potential fraudulent transactions:\n",
      "     transaction_id  amount   z_score  is_fraud\n",
      "16              17  125000  3.376893      True\n",
      "\n",
      "Full dataset with fraud detection:\n",
      "    transaction_id  amount   z_score  is_fraud\n",
      "0                1     120  0.333890     False\n",
      "1                2     340  0.327353     False\n",
      "2                3     180  0.332107     False\n",
      "3                4     150  0.332999     False\n",
      "4                5     200  0.331513     False\n",
      "5                6     300  0.328542     False\n",
      "6                7     290  0.328839     False\n",
      "7                8     500  0.322599     False\n",
      "8                9     140  0.333296     False\n",
      "9               10     160  0.332702     False\n",
      "10              11     130  0.333593     False\n",
      "11              12     100  0.334485     False\n",
      "12              13     190  0.331810     False\n",
      "13              14     210  0.331216     False\n",
      "14              15     170  0.332405     False\n",
      "15              16     600  0.319627     False\n",
      "16              17  125000  3.376893      True\n",
      "17              18   98000  2.574594     False\n",
      "18              19     150  0.332999     False\n",
      "19              20     200  0.331513     False\n"
     ]
    }
   ],
   "source": [
    "data={\n",
    "    'transaction_id':range(1,21),\n",
    "    'amount':[120,340,180,150,200,300,290,500,140,160,\n",
    "             130,100,190,210,170,600,125000,98000,150,200]\n",
    "}\n",
    "df=pd.DataFrame(data)\n",
    "#cal z-score for amount\n",
    "df['z_score']=np.abs(stats.zscore(df['amount']))\n",
    "#flag transactions as outliers if z-score>3\n",
    "df['is_fraud']=df['z_score']>3\n",
    "#print outliers\n",
    "fraudulent=df[df['is_fraud']==True]\n",
    "print(\"Potential fraudulent transactions:\\n\",fraudulent)\n",
    "#see the full data set with flags\n",
    "print(\"\\nFull dataset with fraud detection:\")\n",
    "print(df[['transaction_id','amount','z_score','is_fraud']])"
   ]
  },
  {
   "cell_type": "code",
   "execution_count": null,
   "metadata": {},
   "outputs": [],
   "source": []
  }
 ],
 "metadata": {
  "kernelspec": {
   "display_name": "Python 3",
   "language": "python",
   "name": "python3"
  },
  "language_info": {
   "codemirror_mode": {
    "name": "ipython",
    "version": 3
   },
   "file_extension": ".py",
   "mimetype": "text/x-python",
   "name": "python",
   "nbconvert_exporter": "python",
   "pygments_lexer": "ipython3",
   "version": "3.7.4"
  }
 },
 "nbformat": 4,
 "nbformat_minor": 2
}
