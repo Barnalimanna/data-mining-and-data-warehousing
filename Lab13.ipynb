{
 "cells": [
  {
   "cell_type": "code",
   "execution_count": null,
   "metadata": {},
   "outputs": [],
   "source": [
    "#Model evaluation and selection\n",
    "import numpy as np\n",
    "import pandas as pd\n",
    "from sklearn.datasets import load_iris\n",
    "from sklearn.model_selection import train_test_split,cross_val_score\n",
    "from sklearn.metrics import accuracy_score,classification_report,confusion_matrix\n",
    "from sklearn.linear_model import LogisticRegression\n",
    "from sklearn.svm import SVC\n",
    "from sklearn.neighbors import KNeighborsClassifier\n",
    "\n",
    "#load data set\n",
    "iris=load_iris()\n",
    "X,y=iris.data,iris.target"
   ]
  },
  {
   "cell_type": "code",
   "execution_count": null,
   "metadata": {},
   "outputs": [
    {
     "name": "stdout",
     "output_type": "stream",
     "text": [
      "\n",
      "Model:Logistic Regression\n",
      "Cross-validation Accuracy:0.966667\n",
      "Test Accuracy:1.00\n",
      "Confusion Matrix:\n",
      "[[10  0  0]\n",
      " [ 0  9  0]\n",
      " [ 0  0 11]]\n",
      "Classification Report:\n",
      "\n",
      "Model:Support Vector Machine\n",
      "Cross-validation Accuracy:0.950000\n",
      "Test Accuracy:1.00\n",
      "Confusion Matrix:\n",
      "[[10  0  0]\n",
      " [ 0  9  0]\n",
      " [ 0  0 11]]\n",
      "Classification Report:\n",
      "\n",
      "Model:K-Nearest Neighbors\n",
      "Cross-validation Accuracy:0.941667\n",
      "Test Accuracy:1.00\n",
      "Confusion Matrix:\n",
      "[[10  0  0]\n",
      " [ 0  9  0]\n",
      " [ 0  0 11]]\n",
      "Classification Report:\n",
      "              precision    recall  f1-score   support\n",
      "\n",
      "           0       1.00      1.00      1.00        10\n",
      "           1       1.00      1.00      1.00         9\n",
      "           2       1.00      1.00      1.00        11\n",
      "\n",
      "    accuracy                           1.00        30\n",
      "   macro avg       1.00      1.00      1.00        30\n",
      "weighted avg       1.00      1.00      1.00        30\n",
      "\n"
     ]
    }
   ],
   "source": [
    "#split into train and test set\n",
    "X_train,X_test,y_train,y_test=train_test_split(X,y,test_size=0.2,random_state=42)\n",
    "\n",
    "#initialize models\n",
    "models={\n",
    "    \"Logistic Regression\":LogisticRegression(max_iter=200),\n",
    "    \"Support Vector Machine\":SVC(),\n",
    "    \"K-Nearest Neighbors\":KNeighborsClassifier()\n",
    "}\n",
    "\n",
    "#evaluate each model\n",
    "for name,model in models.items():\n",
    "    #cross-validatoin score\n",
    "    cv_score=cross_val_score(model,X_train,y_train,cv=5)\n",
    "    #train and predict\n",
    "    model.fit(X_train,y_train)\n",
    "    y_pred=model.predict(X_test)\n",
    "    #metrics\n",
    "    acc=accuracy_score(y_test,y_pred)\n",
    "    print(f\"\\nModel:{name}\")\n",
    "    print(f\"Cross-validation Accuracy:{cv_score.mean():2f}\")\n",
    "    print(f\"Test Accuracy:{acc:.2f}\")\n",
    "    print(\"Confusion Matrix:\")\n",
    "    print(confusion_matrix(y_test,y_pred))\n",
    "print(\"Classification Report:\")\n",
    "print(classification_report(y_test,y_pred))    "
   ]
  },
  {
   "cell_type": "code",
   "execution_count": null,
   "metadata": {},
   "outputs": [],
   "source": []
  }
 ],
 "metadata": {
  "kernelspec": {
   "display_name": "Python 3",
   "language": "python",
   "name": "python3"
  },
  "language_info": {
   "codemirror_mode": {
    "name": "ipython",
    "version": 3
   },
   "file_extension": ".py",
   "mimetype": "text/x-python",
   "name": "python",
   "nbconvert_exporter": "python",
   "pygments_lexer": "ipython3",
   "version": "3.7.4"
  }
 },
 "nbformat": 4,
 "nbformat_minor": 2
}
