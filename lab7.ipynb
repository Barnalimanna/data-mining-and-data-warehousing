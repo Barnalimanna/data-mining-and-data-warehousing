{
 "cells": [
  {
   "cell_type": "code",
   "execution_count": null,
   "metadata": {},
   "outputs": [
    {
     "name": "stdout",
     "output_type": "stream",
     "text": [
      "Frequent Itemsets:\n",
      "   support          itemsets\n",
      "0      0.6            (milk)\n",
      "1      0.8           (bread)\n",
      "2      0.6          (butter)\n",
      "3      0.8          (cheese)\n",
      "4      0.6     (milk, bread)\n",
      "5      0.6   (cheese, bread)\n",
      "6      0.6  (cheese, butter)\n",
      "\n",
      "Association Rules:\n",
      "  antecedents consequents  antecedent support  consequent support  support  \\\n",
      "0      (milk)     (bread)                 0.6                 0.8      0.6   \n",
      "1     (bread)      (milk)                 0.8                 0.6      0.6   \n",
      "2    (cheese)    (butter)                 0.8                 0.6      0.6   \n",
      "3    (butter)    (cheese)                 0.6                 0.8      0.6   \n",
      "\n",
      "   confidence  lift  representativity  leverage  conviction  zhangs_metric  \\\n",
      "0        1.00  1.25               1.0      0.12         inf            0.5   \n",
      "1        0.75  1.25               1.0      0.12         1.6            1.0   \n",
      "2        0.75  1.25               1.0      0.12         1.6            1.0   \n",
      "3        1.00  1.25               1.0      0.12         inf            0.5   \n",
      "\n",
      "   jaccard  certainty  kulczynski  \n",
      "0     0.75      1.000       0.875  \n",
      "1     0.75      0.375       0.875  \n",
      "2     0.75      0.375       0.875  \n",
      "3     0.75      1.000       0.875  \n"
     ]
    },
    {
     "name": "stderr",
     "output_type": "stream",
     "text": [
      "C:\\Users\\USER\\Anaconda3\\lib\\site-packages\\mlxtend\\frequent_patterns\\fpcommon.py:165: DeprecationWarning: DataFrames with non-bool types result in worse computationalperformance and their support might be discontinued in the future.Please use a DataFrame with bool type\n",
      "  DeprecationWarning,\n"
     ]
    }
   ],
   "source": [
    "#Association rule mining using apriori\n",
    "# Import necessary libraries\n",
    "import pandas as pd\n",
    "from mlxtend.frequent_patterns import apriori, association_rules\n",
    "\n",
    "# Sample market basket data in binary format\n",
    "data = pd.DataFrame({\n",
    "    'milk': [1, 0, 1, 1, 0],\n",
    "    'bread': [1, 1, 1, 1, 0],\n",
    "    'butter': [0, 1, 1, 0, 1],\n",
    "    'cheese': [1, 1, 1, 0, 1]\n",
    "})\n",
    "\n",
    "# Apply Apriori algorithm to find frequent itemsets with minimum support of 0.5\n",
    "frequent_itemsets = apriori(data, min_support=0.5, use_colnames=True)\n",
    "\n",
    "# Generate association rules with minimum lift of 1.0\n",
    "rules = association_rules(frequent_itemsets, metric=\"lift\", min_threshold=1.0)\n",
    "\n",
    "# Display the results\n",
    "print(\"Frequent Itemsets:\")\n",
    "print(frequent_itemsets)\n",
    "\n",
    "print(\"\\nAssociation Rules:\")\n",
    "print(rules)\n"
   ]
  },
  {
   "cell_type": "code",
   "execution_count": null,
   "metadata": {},
   "outputs": [
    {
     "data": {
      "image/png": "[encoded data removed]",
      "text/plain": [
       "<Figure size 432x288 with 2 Axes>"
      ]
     },
     "metadata": {
      "needs_background": "light"
     },
     "output_type": "display_data"
    },
    {
     "name": "stdout",
     "output_type": "stream",
     "text": [
      "   age  income  cluster\n",
      "0   25   30000        1\n",
      "1   30   35000        1\n",
      "2   35   40000        1\n",
      "3   40   45000        2\n",
      "4   45   50000        2\n",
      "5   50   55000        2\n",
      "6   55   60000        0\n",
      "7   60   65000        0\n",
      "8   65   70000        0\n"
     ]
    }
   ],
   "source": [
    "#Customer segmentation using k-means clustering\n",
    "# Import necessary libraries\n",
    "from sklearn.cluster import KMeans\n",
    "import matplotlib.pyplot as plt\n",
    "import pandas as pd\n",
    "\n",
    "# Sample customer data (Age, Income)\n",
    "data = pd.DataFrame({\n",
    "    'age': [25, 30, 35, 40, 45, 50, 55, 60, 65],\n",
    "    'income': [30000, 35000, 40000, 45000, 50000, 55000, 60000, 65000, 70000]\n",
    "})\n",
    "\n",
    "# Apply K-Means clustering with 3 clusters\n",
    "kmeans = KMeans(n_clusters=3, random_state=42)\n",
    "data['cluster'] = kmeans.fit_predict(data[['age', 'income']])\n",
    "\n",
    "# Plot the customer segments\n",
    "plt.scatter(data['age'], data['income'], c=data['cluster'], cmap='viridis')\n",
    "plt.xlabel('Age')\n",
    "plt.ylabel('Income')\n",
    "plt.title('Customer Segmentation')\n",
    "plt.colorbar()\n",
    "plt.show()\n",
    "# Display the customer segments\n",
    "print(data)\n"
   ]
  },
  {
   "cell_type": "code",
   "execution_count": null,
   "metadata": {},
   "outputs": [
    {
     "name": "stdout",
     "output_type": "stream",
     "text": [
      "Frequent Sequential Patterns:\n",
      "{(('bread', 'cheese'), 2), (('milk',), 3), (('cheese',), 2), (('butter',), 4), (('milk', 'butter'), 2), (('bread',), 4), (('bread', 'butter'), 2)}\n"
     ]
    }
   ],
   "source": [
    "#Sequential pattern mining using prefixSpan \n",
    "#Import necessary libraries\n",
    "from pymining import seqmining\n",
    "\n",
    "# Sample sequential transaction data (each list represents a transaction)\n",
    "sequence_data = [\n",
    "    ['bread', 'milk', 'butter'],\n",
    "    ['bread', 'cheese'],\n",
    "    ['milk', 'butter', 'bread'],\n",
    "    ['bread', 'butter', 'cheese'],\n",
    "    ['butter', 'milk']\n",
    "]\n",
    "\n",
    "# Mine sequential patterns with a minimum support of 2\n",
    "seq_patterns = seqmining.freq_seq_enum(sequence_data, 2)\n",
    "\n",
    "# Display the frequent sequential patterns\n",
    "print(\"Frequent Sequential Patterns:\")\n",
    "print(seq_patterns)\n"
   ]
  },
  {
   "cell_type": "code",
   "execution_count": null,
   "metadata": {},
   "outputs": [],
   "source": []
  }
 ],
 "metadata": {
  "kernelspec": {
   "display_name": "Python 3",
   "language": "python",
   "name": "python3"
  },
  "language_info": {
   "codemirror_mode": {
    "name": "ipython",
    "version": 3
   },
   "file_extension": ".py",
   "mimetype": "text/x-python",
   "name": "python",
   "nbconvert_exporter": "python",
   "pygments_lexer": "ipython3",
   "version": "3.7.4"
  }
 },
 "nbformat": 4,
 "nbformat_minor": 2
}
