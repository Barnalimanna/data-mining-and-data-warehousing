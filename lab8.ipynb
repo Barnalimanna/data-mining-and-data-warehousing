{
 "cells": [
  {
   "cell_type": "code",
   "execution_count": 5,
   "metadata": {},
   "outputs": [],
   "source": [
    "#classification using frequent patterns\n",
    "import pandas as pd\n",
    "from mlxtend.frequent_patterns import apriori,association_rules\n",
    "from sklearn.model_selection import train_test_split\n",
    "from sklearn.metrics import accuracy_score"
   ]
  },
  {
   "cell_type": "code",
   "execution_count": 31,
   "metadata": {},
   "outputs": [
    {
     "name": "stdout",
     "output_type": "stream",
     "text": [
      "Frequent Itemsets:\n",
      "    support                itemsets\n",
      "0  0.666667             (product_1)\n",
      "1  0.666667             (product_2)\n",
      "2  0.666667             (product_3)\n",
      "3  0.444444  (product_1, product_3)\n",
      "4  0.444444  (product_2, product_3)\n",
      "Assocation Rules:\n",
      "   antecedents  consequents  antecedent support  consequent support   support  \\\n",
      "0  (product_1)  (product_3)            0.666667            0.666667  0.444444   \n",
      "1  (product_3)  (product_1)            0.666667            0.666667  0.444444   \n",
      "2  (product_2)  (product_3)            0.666667            0.666667  0.444444   \n",
      "3  (product_3)  (product_2)            0.666667            0.666667  0.444444   \n",
      "\n",
      "   confidence  lift  leverage  conviction  zhangs_metric  \n",
      "0    0.666667   1.0       0.0         1.0            0.0  \n",
      "1    0.666667   1.0       0.0         1.0            0.0  \n",
      "2    0.666667   1.0       0.0         1.0            0.0  \n",
      "3    0.666667   1.0       0.0         1.0            0.0  \n"
     ]
    },
    {
     "name": "stderr",
     "output_type": "stream",
     "text": [
      "C:\\Users\\USER\\Anaconda3\\lib\\site-packages\\mlxtend\\frequent_patterns\\fpcommon.py:113: DeprecationWarning: DataFrames with non-bool types result in worse computationalperformance and their support might be discontinued in the future.Please use a DataFrame with bool type\n",
      "  DeprecationWarning,\n"
     ]
    }
   ],
   "source": [
    "data=pd.DataFrame({\n",
    "'age':[25,30,35,40,45,50,55,60,65],\n",
    "'income':[30000,35000,40000,45000,50000,55000,60000,65000,70000],\n",
    "'product_1':[1,1,0,1,0,1,1,1,0],\n",
    "'product_2':[1,0,1,0,1,0,1,1,1],\n",
    "'product_3':[0,1,1,1,1,0,1,1,0],\n",
    "'purchased':[1,0,1,1,0,1,1,0,1]\n",
    "})\n",
    "product_data=data[['product_1','product_2','product_3']]\n",
    "frequent_itemsets=apriori(product_data,min_support=0.4,use_colnames=True)\n",
    "#display frequent itemsets\n",
    "print(\"Frequent Itemsets:\")\n",
    "print(frequent_itemsets)\n",
    "#generate association rules\n",
    "rules=association_rules(frequent_itemsets,metric=\"lift\",min_threshold=1.0)\n",
    "#display the rule\n",
    "print(\"Assocation Rules:\")\n",
    "print(rules)\n",
    "\n",
    "\n"
   ]
  },
  {
   "cell_type": "code",
   "execution_count": 33,
   "metadata": {},
   "outputs": [
    {
     "name": "stdout",
     "output_type": "stream",
     "text": [
      "Classification Accuracy: 0.3333333333333333\n"
     ]
    }
   ],
   "source": [
    "#function to classify based on rules\n",
    "def classify_transaction(transaction,rules):\n",
    "    for _, rule in rules.iterrows():\n",
    "        antecedents=set(rule['antecedents'])\n",
    "        consequents=set(rule['consequents'])\n",
    "        if antecedents.issubset(transaction) and consequents.issubset(transaction):\n",
    "            return 1\n",
    "        return 0\n",
    "predictions=[]\n",
    "\n",
    "for _, row in data.iterrows():\n",
    "    transaction =set(row[['product_1','product_2','product_3']].values)\n",
    "    prediction=classify_transaction(transaction,rules)\n",
    "    predictions.append(prediction)\n",
    "accuracy=accuracy_score(data['purchased'],predictions)\n",
    "print(\"Classification Accuracy:\", accuracy)\n"
   ]
  },
  {
   "cell_type": "code",
   "execution_count": null,
   "metadata": {},
   "outputs": [],
   "source": []
  }
 ],
 "metadata": {
  "kernelspec": {
   "display_name": "Python 3",
   "language": "python",
   "name": "python3"
  },
  "language_info": {
   "codemirror_mode": {
    "name": "ipython",
    "version": 3
   },
   "file_extension": ".py",
   "mimetype": "text/x-python",
   "name": "python",
   "nbconvert_exporter": "python",
   "pygments_lexer": "ipython3",
   "version": "3.7.4"
  }
 },
 "nbformat": 4,
 "nbformat_minor": 2
}
