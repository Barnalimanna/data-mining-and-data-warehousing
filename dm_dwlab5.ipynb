{
 "cells": [
  {
   "cell_type": "code",
   "execution_count": 2,
   "metadata": {},
   "outputs": [
    {
     "name": "stdout",
     "output_type": "stream",
     "text": [
      "Contains Duplicates: False\n"
     ]
    }
   ],
   "source": [
    "#Program 1: Checking for Duplicates in the Dataset\n",
    "#Question: Write a Python function to check if the pizza_sales.csv dataset contains any duplicate rows.\n",
    "import pandas as pd\n",
    "# Load dataset\n",
    "df = pd.read_csv(\"pizza_sales.csv\")\n",
    "# Function to check for duplicates\n",
    "def has_duplicates(dataframe):\n",
    "    return dataframe.duplicated().sum() > 0  # Returns True if duplicates exist\n",
    "# Check for duplicates\n",
    "print(\"Contains Duplicates:\", has_duplicates(df))\n"
   ]
  },
  {
   "cell_type": "code",
   "execution_count": 3,
   "metadata": {},
   "outputs": [
    {
     "name": "stdout",
     "output_type": "stream",
     "text": [
      "   pizza_id  order_id  pizza_name_id  quantity order_date order_time  \\\n",
      "0       1.0       1.0     hawaiian_m       1.0   1/1/2015   11:38:36   \n",
      "1       2.0       2.0  classic_dlx_m       1.0   1/1/2015   11:57:40   \n",
      "2       3.0       2.0  five_cheese_l       1.0   1/1/2015   11:57:40   \n",
      "3       4.0       2.0    ital_supr_l       1.0   1/1/2015   11:57:40   \n",
      "4       5.0       2.0     mexicana_m       1.0   1/1/2015   11:57:40   \n",
      "\n",
      "   unit_price  total_price pizza_size pizza_category  \\\n",
      "0       13.25        13.25          M        Classic   \n",
      "1       16.00        16.00          M        Classic   \n",
      "2       18.50        18.50          L         Veggie   \n",
      "3       20.75        20.75          L        Supreme   \n",
      "4       16.00        16.00          M         Veggie   \n",
      "\n",
      "                                   pizza_ingredients  \\\n",
      "0           Sliced Ham, Pineapple, Mozzarella Cheese   \n",
      "1  Pepperoni, Mushrooms, Red Onions, Red Peppers,...   \n",
      "2  Mozzarella Cheese, Provolone Cheese, Smoked Go...   \n",
      "3  Calabrese Salami, Capocollo, Tomatoes, Red Oni...   \n",
      "4  Tomatoes, Red Peppers, Jalapeno Peppers, Red O...   \n",
      "\n",
      "                  pizza_name  \n",
      "0         The Hawaiian Pizza  \n",
      "1   The Classic Deluxe Pizza  \n",
      "2      The Five Cheese Pizza  \n",
      "3  The Italian Supreme Pizza  \n",
      "4         The Mexicana Pizza  \n"
     ]
    }
   ],
   "source": [
    "#Program 2: Handling Missing Values in the Dataset\n",
    "#Question: Fill missing values in numerical columns with the column mean.\n",
    "import pandas as pd\n",
    "# Load dataset\n",
    "df = pd.read_csv(\"pizza_sales.csv\")\n",
    "# Fill missing values with column mean\n",
    "df.fillna(df.mean(numeric_only=True), inplace=True)\n",
    "# Display dataset after filling missing values\n",
    "print(df.head())\n",
    "\n"
   ]
  },
  {
   "cell_type": "code",
   "execution_count": 5,
   "metadata": {},
   "outputs": [
    {
     "name": "stdout",
     "output_type": "stream",
     "text": [
      "   total_price  price_normalized\n",
      "0        13.25          0.047782\n",
      "1        16.00          0.085324\n",
      "2        18.50          0.119454\n",
      "3        20.75          0.150171\n",
      "4        16.00          0.085324\n"
     ]
    }
   ],
   "source": [
    "#Prohgram 3: Normalizing a Column (e.g., Pizza Price)\n",
    "#Question: Normalize the price column in pizza_sales.csv between 0 and 1.\n",
    "import pandas as pd\n",
    "# Load dataset\n",
    "df = pd.read_csv(\"pizza_sales.csv\")\n",
    "# Normalize 'price' column\n",
    "if 'total_price' in df.columns:\n",
    "    df['price_normalized'] = (df['total_price'] - df['total_price'].min()) / (df['total_price'].max() - df['total_price'].min())\n",
    "# Display dataset with normalized column\n",
    "print(df[['total_price', 'price_normalized']].head())\n"
   ]
  },
  {
   "cell_type": "code",
   "execution_count": 10,
   "metadata": {},
   "outputs": [
    {
     "name": "stdout",
     "output_type": "stream",
     "text": [
      "  pizza_category  total_price\n",
      "0        Chicken    195919.50\n",
      "1        Classic    220053.10\n",
      "2        Supreme    208197.00\n",
      "3         Veggie    193690.45\n"
     ]
    }
   ],
   "source": [
    "#Program 4: Grouping and Summarizing Sales Data\n",
    "#Question: Group the dataset by pizza_type and calculate the total sales for each type of pizza.\n",
    "import pandas as pd\n",
    "# Load dataset\n",
    "df = pd.read_csv(\"pizza_sales.csv\")\n",
    "# Group by 'pizza_type' and calculate total sales\n",
    "if 'pizza_category' in df.columns and 'total_price' in df.columns:\n",
    "    sales_summary = df.groupby('pizza_category')['total_price'].sum().reset_index()\n",
    "# Display summarized sales data\n",
    "    print(sales_summary)\n",
    "else:\n",
    "    print(\"One or both of the required columns ('pizza_category' and 'total_price') are missing.\")\n"
   ]
  },
  {
   "cell_type": "code",
   "execution_count": null,
   "metadata": {},
   "outputs": [],
   "source": []
  }
 ],
 "metadata": {
  "kernelspec": {
   "display_name": "Python 3",
   "language": "python",
   "name": "python3"
  },
  "language_info": {
   "codemirror_mode": {
    "name": "ipython",
    "version": 3
   },
   "file_extension": ".py",
   "mimetype": "text/x-python",
   "name": "python",
   "nbconvert_exporter": "python",
   "pygments_lexer": "ipython3",
   "version": "3.7.4"
  }
 },
 "nbformat": 4,
 "nbformat_minor": 2
}
